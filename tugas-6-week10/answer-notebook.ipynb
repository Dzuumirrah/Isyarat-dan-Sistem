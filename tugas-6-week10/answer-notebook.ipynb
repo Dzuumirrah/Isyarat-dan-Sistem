{
 "cells": [
  {
   "cell_type": "markdown",
   "metadata": {},
   "source": [
    "<p style=\"text-align: right; font-family: TNR;\">\n",
    "Muhammad Hilman Hanif <br>\n",
    "23051030017 <br>\n",
    "Teknik Elektro (G)<br>\n",
    "</p>\n"
   ]
  },
  {
   "cell_type": "markdown",
   "metadata": {},
   "source": [
    "# A. UTS Bagian A"
   ]
  },
  {
   "cell_type": "markdown",
   "metadata": {},
   "source": [
    ">Keterangan: <br>\n",
    "<br>Kecuali terdapat batasan khusus, <br>\n",
    "a = digit kedua dari belakang NIM;<br>\n",
    "b = digit terakhir NIM.\n",
    "\n",
    "NIM: 17<br>\n",
    "a = 1<br>\n",
    "b = 7"
   ]
  },
  {
   "cell_type": "markdown",
   "metadata": {},
   "source": [
    "## 1. Tuliskan persamaan untuk sinyal berikut."
   ]
  },
  {
   "cell_type": "markdown",
   "metadata": {},
   "source": [
    "### a. <img src=\"assets/A.1.a.png\" max-width = 100% height=\"auto\">"
   ]
  },
  {
   "cell_type": "markdown",
   "metadata": {},
   "source": [
    "Persamaan: <br>\n",
    "$f(x) = 1; x| -7 < x \\leq -1$ atau $1 < x \\leq 7$<br>\n",
    "\n",
    "$f(x) = 2; x| -1< x \\leq 1$<br>\n",
    "\n",
    "$f(x) = 0; x| x $ lainnya"
   ]
  },
  {
   "cell_type": "markdown",
   "metadata": {},
   "source": [
    "### b. <img src=\"assets/A.1.b.png\" max-width = 100% height=\"auto\">"
   ]
  },
  {
   "cell_type": "markdown",
   "metadata": {},
   "source": [
    "Persamaan: <br>\n",
    "$f(x) = \\frac{2x - 0}{-1 - (-7)} = \\frac {2x}{6} = \\frac {x}{3};$      $ x| -7 < x \\leq -1$\n",
    "\n",
    "$f(x) = \\frac{0 - 2x}{7 - 1} = \\frac {-2x}{6} = -\\frac {x}{3};$        $ x| 1 < x \\leq 7$<br>\n",
    "\n",
    "$f(x) = 2; x| -1< x \\leq 1$<br>\n",
    "$f(x) = 0; x| x $ lainnya"
   ]
  },
  {
   "cell_type": "markdown",
   "metadata": {},
   "source": [
    "### c. <img src=\"assets/A.1.C.png\" max-width = 100% height=\"auto\">"
   ]
  },
  {
   "cell_type": "markdown",
   "metadata": {},
   "source": [
    "Persamaan: <br>\n",
    "$f[x] = 1; x| -4 \\leq x < -2$ atau $2 < x \\leq 4$<br>\n",
    "\n",
    "$f[x] = 7; x| -2\\leq x \\leq 2$<br>\n",
    "\n",
    "$f[x] = 0; x| x $ lainnya"
   ]
  },
  {
   "cell_type": "markdown",
   "metadata": {},
   "source": [
    "## 2. Jelaskan secara singkat"
   ]
  },
  {
   "cell_type": "markdown",
   "metadata": {},
   "source": [
    "### a. Sistem waktu diskrit (*Discrete time system*)"
   ]
  },
  {
   "cell_type": "markdown",
   "metadata": {},
   "source": [
    "Sistem yang bekerja pada sinyal atau data yang diukur hanya **pada titik waktu tertentu, dalam interval waktu yang terpisah-pisah**. Dengan kata lain, sistem ini hanya memproses input pada saat tertentu dan bukan secara terus-menerus."
   ]
  },
  {
   "cell_type": "markdown",
   "metadata": {},
   "source": [
    "### b. Sistem Waktu Kontinu (Continuous Time System):\n"
   ]
  },
  {
   "cell_type": "markdown",
   "metadata": {},
   "source": [
    "Sistem yang bekerja pada sinyal atau data yang tersedia pada setiap saat secara kontinu dalam waktu. Input dan outputnya adalah **fungsi waktu yang tidak terputus dan memiliki nilai pada setiap saat**."
   ]
  },
  {
   "cell_type": "markdown",
   "metadata": {},
   "source": [
    "## 3. Jelaskan secara singkat"
   ]
  },
  {
   "cell_type": "markdown",
   "metadata": {},
   "source": [
    "### a. Sistem Kausal dan Sistem Non-Kausal:\n"
   ]
  },
  {
   "cell_type": "markdown",
   "metadata": {},
   "source": [
    "- Sistem Kausal adalah sistem yang output-nya hanya **bergantung pada nilai input di waktu saat ini atau masa lalu**, bukan masa depan.\n",
    "- Sistem Non-Kausal adalah sistem yang output-nya **bergantung pada nilai input di masa depan**, yang pada praktiknya sulit atau tidak mungkin direalisasikan."
   ]
  },
  {
   "cell_type": "markdown",
   "metadata": {},
   "source": [
    "Sistem yang bekerja pada sinyal atau data yang diukur hanya **pada titik waktu tertentu, dalam interval waktu yang terpisah-pisah**. Dengan kata lain, sistem ini hanya memproses input pada saat tertentu dan bukan secara terus-menerus."
   ]
  },
  {
   "cell_type": "markdown",
   "metadata": {},
   "source": [
    "### b. Sistem Linear dan Sistem Non-Linear:\n"
   ]
  },
  {
   "cell_type": "markdown",
   "metadata": {},
   "source": [
    "- Sistem Linear memenuhi prinsip superposisi dan homogenitas, di mana **output yang dihasilkan merupakan respons linier terhadap input.**\n",
    "- Sistem Non-Linear tidak memenuhi prinsip superposisi, sehingga respons **outputnya tidak proporsional atau tidak linier terhadap input.**\n"
   ]
  },
  {
   "cell_type": "markdown",
   "metadata": {},
   "source": [
    "### c. Sistem Time-Variant dan Sistem Time-Invariant:\n"
   ]
  },
  {
   "cell_type": "markdown",
   "metadata": {},
   "source": [
    "- Sistem Time-Variant adalah sistem yang **karakteristiknya berubah terhadap waktu**, sehingga responsnya dapat berbeda untuk input yang sama pada waktu yang berbeda.\n",
    "- Sistem Time-Invariant adalah sistem yang **karakteristiknya tidak berubah terhadap waktu**, sehingga responsnya terhadap input yang sama akan selalu sama.\n"
   ]
  },
  {
   "cell_type": "markdown",
   "metadata": {},
   "source": [
    "# B. Labsheet w7"
   ]
  },
  {
   "cell_type": "markdown",
   "metadata": {},
   "source": [
    "## 1. Dengan $x(t)=u(t)-u(t-1)$, periksa apakah kedua persamaan berikut adalah sistem statis atau dinamis!\n",
    "\n",
    "$y(t)=3x(t)$ dan $y(t)=x(t-1)$"
   ]
  },
  {
   "cell_type": "markdown",
   "metadata": {},
   "source": [
    "- Sistem dengan hubungan $y(t)=3x(t)<br>\n",
    "  Karena output $y(t)$tidak bergantung pada nilai $x$ di waktu yang lain, sistem ini adalah **sistem statis**\n",
    "  \n",
    "- Sistem dengan hubungan $y(t)=x(t-1)<br>\n",
    "  Karena output $y(t)$ bergantung pada nilai $x$ di waktu yang lain (yaitu $(t - 1)$), sistem ini adalah **sistem dinamis**"
   ]
  },
  {
   "cell_type": "markdown",
   "metadata": {},
   "source": [
    "## 2. Dengan $x[n]=[0, 1, 2, 3, 4], periksa apakah kedua persamaan berikut adalah sistem statis atau dinamis!"
   ]
  },
  {
   "cell_type": "markdown",
   "metadata": {},
   "source": [
    "$y[n] = x^2$ dan $y[n]=x[\\frac{n}{2}]$"
   ]
  },
  {
   "cell_type": "markdown",
   "metadata": {},
   "source": [
    "- Sistem dengan hubungan $y[n]=x^2<br>\n",
    "  Karena output $y(t)$ hanya bergantung pada nilai $x$ pada waktu $n$ saja dan tidak bergantung pada nilai $x$ di waktu yang lain, sistem ini adalah **sistem statis**.\n",
    "  \n",
    "- Sistem dengan hubungan $y(t)=x[\\frac{n}{2}]$<br>\n",
    "  Karena output $y(t)$ bergantung pada nilai $x$ di waktu $\\frac{n}{2}$, sistem ini adalah **sistem dinamis**."
   ]
  },
  {
   "cell_type": "markdown",
   "metadata": {},
   "source": [
    "## 3. Diketahui sinyal input $ x_1(t) = u(t) - u(t-2) $ pada sistem.   Periksa apakah sistem-sistem ini bersifat linear dengan hubungan I/O"
   ]
  },
  {
   "cell_type": "markdown",
   "metadata": {},
   "source": [
    "$ y(t) = 2x(t) $ <br>\n",
    "$ y(t) = x^2(t) $\n"
   ]
  },
  {
   "cell_type": "markdown",
   "metadata": {},
   "source": [
    "- Sistem $ y(t) = 2x(t) $\n",
    "  \n",
    "  **Linearity Test**: Sistem bersifat linear jika memenuhi persamaan:\n",
    "  $\n",
    "  S\\{a_1 x_1(t) + a_2 x_2(t)\\} = a_1 S\\{x_1(t)\\} + a_2 S\\{x_2(t)\\}\n",
    "  $\n",
    "\n",
    "  Untuk $ y(t) = 2x(t) $, substitusi input gabungan $ a_1 x_1(t) + a_2 x_2(t) $ menghasilkan:\n",
    "  $\n",
    "  S\\{a_1 x_1(t) + a_2 x_2(t)\\} = 2(a_1 x_1(t) + a_2 x_2(t)) = a_1 \\cdot 2x_1(t) + a_2 \\cdot 2x_2(t)\n",
    "  $\n",
    "\n",
    "  Hasil ini sama dengan $ a_1 S\\{x_1(t)\\} + a_2 S\\{x_2(t)\\} $, sehingga **sistem ini linear**.\n",
    "\n",
    "- Sistem $ y(t) = x^2(t) $\n",
    "  Untuk sistem ini, substitusi $ a_1 x_1(t) + a_2 x_2(t) $ ke dalam sistem menghasilkan:\n",
    "  $\n",
    "  S\\{a_1 x_1(t) + a_2 x_2(t)\\} = (a_1 x_1(t) + a_2 x_2(t))^2\n",
    "  $\n",
    "  \n",
    "  Karena operasi kuadrat tidak mematuhi sifat linearitas (misalnya, $ (a_1 + a_2)^2 \\neq a_1^2 + a_2^2 $), **sistem ini tidak linear**.\n"
   ]
  },
  {
   "cell_type": "markdown",
   "metadata": {},
   "source": [
    "## 4. Diketahui sinyal input $ x_1[n] = 0.8^n $, untuk $ 0 \\leq n \\leq 5 $, dan $ x_2[n] = \\cos(n) $, untuk $ 0 \\leq n \\leq 5 $ pada sistem.   Periksa apakah sistem-sistem ini bersifat linear dengan hubungan I/O"
   ]
  },
  {
   "cell_type": "markdown",
   "metadata": {},
   "source": [
    "$ y[n] = 2^{x[n]} $\n",
    "\n",
    "$ y[n] = n x[n] $\n"
   ]
  },
  {
   "cell_type": "markdown",
   "metadata": {},
   "source": [
    "- Sistem $ y[n] = 2^{x[n]} $\n",
    "  \n",
    "  **Linearity Test**: Sistem linear jika:\n",
    "  $\n",
    "  S\\{a_1 x_1[n] + a_2 x_2[n]\\} = a_1 S\\{x_1[n]\\} + a_2 S\\{x_2[n]\\}\n",
    "  $\n",
    "  \n",
    "  Substitusi $ a_1 x_1[n] + a_2 x_2[n] $ ke dalam sistem:\n",
    "  $\n",
    "  S\\{a_1 x_1[n] + a_2 x_2[n]\\} = 2^{a_1 x_1[n] + a_2 x_2[n]}\n",
    "  $\n",
    "  \n",
    "  Karena eksponensial bukan operasi linear, persamaan ini tidak dapat dipecah menjadi bentuk $ a_1 S\\{x_1[n]\\} + a_2 S\\{x_2[n]\\} $. Jadi, **sistem ini tidak linear**.\n",
    "\n",
    "- Sistem $ y[n] = n x[n] $\n",
    "  \n",
    "  Substitusi $ a_1 x_1[n] + a_2 x_2[n] $ ke dalam sistem:\n",
    "  $\n",
    "  S\\{a_1 x_1[n] + a_2 x_2[n]\\} = n (a_1 x_1[n] + a_2 x_2[n]) = a_1 \\cdot n x_1[n] + a_2 \\cdot n x_2[n]\n",
    "  $\n",
    "  \n",
    "  Hasil ini sesuai dengan bentuk linearitas $ a_1 S\\{x_1[n]\\} + a_2 S\\{x_2[n]\\} $, jadi **sistem ini linear**.\n"
   ]
  },
  {
   "cell_type": "markdown",
   "metadata": {},
   "source": [
    "## 5. Diketahui sinyal input $ x(t) = u(t) - u(t-5) $ pada sistem.   Periksa apakah sistem-sistem ini bersifat linear dengan hubungan I/O"
   ]
  },
  {
   "cell_type": "markdown",
   "metadata": {},
   "source": [
    "$\n",
    "S\\{y(t) = t e^{-t} x(t)\\}\n",
    "$\n"
   ]
  },
  {
   "cell_type": "markdown",
   "metadata": {},
   "source": [
    "Sistem time-invariant jika:\n",
    "$\n",
    "S\\{x(t - t_0) = y(t - t_0)\\}\n",
    "$\n",
    "\n",
    "- Input yang digeser waktu adalah $ x(t - t_0) = u(t - t_0) - u(t - t_0 - 5) $.\n",
    "- Output untuk $ x(t - t_0) $ adalah:\n",
    "  $\n",
    "  y(t) = t e^{-t} (u(t - t_0) - u(t - t_0 - 5))\n",
    "  $\n",
    "\n",
    "- Jika kita geser output $ y(t) $ sebesar $ t_0 $, kita dapatkan:\n",
    "  $\n",
    "  y(t - t_0) = (t - t_0) e^{-(t - t_0)} x(t - t_0)\n",
    "  $\n",
    "\n",
    "- Karena terdapat faktor tambahan $ (t - t_0) e^{-(t - t_0)} $ pada output yang tergantung pada $ t_0 $, hasil ini berbeda dari $ S\\{x(t - t_0)\\} $. Oleh karena itu, **sistem ini tidak time-invariant**.\n"
   ]
  },
  {
   "cell_type": "markdown",
   "metadata": {},
   "source": [
    "## 6. Diketahui sinyal input $ x(t) = \\cos(t)[u(t) - u(t - 10)] $ pada sistem. Periksa apakah sistem-sistem ini bersifat time-invariant dengan hubungan I/O sistem berikut"
   ]
  },
  {
   "cell_type": "markdown",
   "metadata": {},
   "source": [
    "$\n",
    "y(t) = 1 - 2x(t - 1)\n",
    "$"
   ]
  },
  {
   "cell_type": "markdown",
   "metadata": {},
   "source": [
    "**Time Shift Test**<br>\n",
    "Sistem bersifat time-invariant jika:\n",
    "$\n",
    "S\\{x(t - t_0)\\} = y(t - t_0)\n",
    "$\n",
    "\n",
    "- Input yang digeser waktu adalah $ x(t - t_0) = \\cos(t - t_0)[u(t - t_0) - u(t - t_0 - 10)] $.\n",
    "- Maka, output untuk $ x(t - t_0) $ adalah:\n",
    "  $\n",
    "  y(t) = 1 - 2\\cos(t - t_0 - 1)[u(t - t_0 - 1) - u(t - t_0 - 11)]\n",
    "  $\n",
    "\n",
    "\n",
    "- Jika kita geser output $ y(t) $ sebesar $ t_0 $, kita dapatkan:\n",
    "  $\n",
    "  y(t - t_0) = 1 - 2\\cos(t - 1 - t_0)[u(t - 1 - t_0) - u(t - 11 - t_0)]\n",
    "  $\n",
    "\n",
    "- Karena $ y(t - t_0) $ menghasilkan bentuk yang sama dengan $ S\\{x(t - t_0)\\} $, maka **sistem ini time-invariant**.\n"
   ]
  },
  {
   "cell_type": "markdown",
   "metadata": {},
   "source": [
    "## 7. Diketahui sinyal input $ x(t) = \\cos(2\\pi) $ pada sistem. Periksa apakah sistem-sistem ini bersifat stabil dengan hubungan I/O sistem berikut"
   ]
  },
  {
   "cell_type": "markdown",
   "metadata": {},
   "source": [
    "- $ y_1[t] = x^2[t] $\n",
    "- $ y_2(t) = t x(t) $\n"
   ]
  },
  {
   "cell_type": "markdown",
   "metadata": {},
   "source": [
    "  **Stability Test**: Sistem stabil jika input terbatas menghasilkan output terbatas.\n",
    "\n",
    "- **Sistem $ y_1[t] = x^2[t] $**<br>\n",
    "  Karena $ x(t) = \\cos(2\\pi) $ adalah sinyal terbatas, maka $ x^2(t) $ juga terbatas. <br>\n",
    "\n",
    "  Oleh karena itu, **sistem $ y_1(t) = x^2(t) $ adalah stabil**.\n",
    "\n",
    "- **Sistem $ y_2(t) = t x(t) $**<br>\n",
    "  Untuk $ y_2(t) = t x(t) $, output bergantung pada $ t $. Seiring waktu $ t \\to \\infty $, nilai $ y_2(t) $ akan meningkat tanpa batas.<br>\n",
    "\n",
    "  Oleh karena itu, **sistem $ y_2(t) = t x(t) $ tidak stabil**.\n"
   ]
  },
  {
   "cell_type": "markdown",
   "metadata": {},
   "source": [
    "## 8. Diketahui sinyal input $ x[n] = 2n $ untuk $ -2 \\leq n \\leq 2 $ pada sistem. Periksa apakah sistem-sistem ini bersifat stabil dengan hubungan I/O sistem berikut"
   ]
  },
  {
   "cell_type": "markdown",
   "metadata": {},
   "source": [
    "$\n",
    "y[n] = x[-n]\n",
    "$\n"
   ]
  },
  {
   "cell_type": "markdown",
   "metadata": {},
   "source": [
    "\n",
    "a) Static or Dynamic\n",
    "- Sistem dikatakan statis jika output pada saat tertentu hanya bergantung pada input pada saat tersebut.\n",
    "- Karena $ y[n] = x[-n] $ bergantung pada nilai $ x $ di waktu lain, yaitu $-n$, maka **sistem ini adalah dinamis**.\n",
    "\n",
    "b) Causal or Noncausal\n",
    "- Sistem dikatakan kausal jika output pada saat tertentu $ n $ hanya bergantung pada nilai input di waktu saat ini atau sebelumnya.\n",
    "- Karena $ y[n] = x[-n] $ dapat bergantung pada nilai input di masa depan (misalnya, jika $ n < 0 $, maka $-n > 0$), maka **sistem ini non-kausal**.\n",
    "\n",
    "c) Linear or Nonlinear\n",
    "- Sistem dikatakan linear jika memenuhi sifat superposisi:\n",
    "  $\n",
    "  S\\{a_1 x_1[n] + a_2 x_2[n]\\} = a_1 S\\{x_1[n]\\} + a_2 S\\{x_2[n]\\}\n",
    "  $\n",
    "- Karena hubungan $ y[n] = x[-n] $ tetap memenuhi sifat superposisi, maka **sistem ini linear**.\n",
    "\n",
    "d) Shift Invariant or Shift Variant\n",
    "- Sistem shift-invariant jika $ S\\{x[n - n_0]\\} = y[n - n_0] $.\n",
    "- Karena $ y[n] = x[-n] $ berubah ketika input bergeser, maka **sistem ini shift-variant**.\n"
   ]
  }
 ],
 "metadata": {
  "kernelspec": {
   "display_name": "Python 3",
   "language": "python",
   "name": "python3"
  },
  "language_info": {
   "codemirror_mode": {
    "name": "ipython",
    "version": 3
   },
   "file_extension": ".py",
   "mimetype": "text/x-python",
   "name": "python",
   "nbconvert_exporter": "python",
   "pygments_lexer": "ipython3",
   "version": "3.12.2"
  }
 },
 "nbformat": 4,
 "nbformat_minor": 2
}
